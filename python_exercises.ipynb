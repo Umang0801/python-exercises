{
  "nbformat": 4,
  "nbformat_minor": 0,
  "metadata": {
    "colab": {
      "provenance": []
    },
    "kernelspec": {
      "name": "python3",
      "display_name": "Python 3"
    },
    "language_info": {
      "name": "python"
    }
  },
  "cells": [
    {
      "cell_type": "markdown",
      "source": [
        "# Objects and Data Structures"
      ],
      "metadata": {
        "id": "IRId5PbxciQV"
      }
    },
    {
      "cell_type": "markdown",
      "source": [
        "## Strings"
      ],
      "metadata": {
        "id": "oqxrJrfBf3Pa"
      }
    },
    {
      "cell_type": "code",
      "source": [
        "# Print out \"e\" in from \"hello\" using indexing\n",
        "string = \"hello\"\n",
        "print(string[1])"
      ],
      "metadata": {
        "colab": {
          "base_uri": "https://localhost:8080/"
        },
        "id": "xSFsAN8hcwJY",
        "outputId": "14e1c17d-3282-4d93-e0d0-16954726fe69"
      },
      "execution_count": 7,
      "outputs": [
        {
          "output_type": "stream",
          "name": "stdout",
          "text": [
            "e\n"
          ]
        }
      ]
    },
    {
      "cell_type": "code",
      "source": [
        "# Reverse the string using slicing\n",
        "print(string[::-1])"
      ],
      "metadata": {
        "colab": {
          "base_uri": "https://localhost:8080/"
        },
        "id": "YH1dTmREdCJM",
        "outputId": "f49cacfc-e93c-4757-9f22-553d11ca52f5"
      },
      "execution_count": 8,
      "outputs": [
        {
          "output_type": "stream",
          "name": "stdout",
          "text": [
            "olleh\n"
          ]
        }
      ]
    },
    {
      "cell_type": "code",
      "source": [
        "# Given the string hello, give two methods of producing the letter \"o\" using indexing\n",
        "\n",
        "# Method 1 (forward indexing)\n",
        "print(string[4])"
      ],
      "metadata": {
        "colab": {
          "base_uri": "https://localhost:8080/"
        },
        "id": "-jXnMcXkdViS",
        "outputId": "61fac12f-af1a-4de8-d402-a216ca93d29f"
      },
      "execution_count": 9,
      "outputs": [
        {
          "output_type": "stream",
          "name": "stdout",
          "text": [
            "o\n"
          ]
        }
      ]
    },
    {
      "cell_type": "code",
      "source": [
        "# Method 2 (backwardindexing)\n",
        "print(string[-1])"
      ],
      "metadata": {
        "colab": {
          "base_uri": "https://localhost:8080/"
        },
        "id": "n0xjZceAeAFT",
        "outputId": "b4599ab6-a165-43d6-8d00-e73d27d46f29"
      },
      "execution_count": 10,
      "outputs": [
        {
          "output_type": "stream",
          "name": "stdout",
          "text": [
            "o\n"
          ]
        }
      ]
    },
    {
      "cell_type": "markdown",
      "source": [
        "## Lists"
      ],
      "metadata": {
        "id": "NBM1XpVnf5gy"
      }
    },
    {
      "cell_type": "code",
      "source": [
        "# Build this list[0,0,0] two separate ways\n",
        "\n",
        "# Method 1 (Literal list)\n",
        "list1 = [0,0,0]\n",
        "list1"
      ],
      "metadata": {
        "colab": {
          "base_uri": "https://localhost:8080/"
        },
        "id": "u4xODAYweesQ",
        "outputId": "69991695-a484-45b2-b1fb-98793d00bf9f"
      },
      "execution_count": 11,
      "outputs": [
        {
          "output_type": "execute_result",
          "data": {
            "text/plain": [
              "[0, 0, 0]"
            ]
          },
          "metadata": {},
          "execution_count": 11
        }
      ]
    },
    {
      "cell_type": "code",
      "source": [
        "# Method 2 (List multiplication)\n",
        "list2 = [0] * 3\n",
        "list2"
      ],
      "metadata": {
        "colab": {
          "base_uri": "https://localhost:8080/"
        },
        "id": "n7Qs9dN8erwB",
        "outputId": "6eca03d2-bcf3-47d8-aa60-e8611c67ede1"
      },
      "execution_count": 12,
      "outputs": [
        {
          "output_type": "execute_result",
          "data": {
            "text/plain": [
              "[0, 0, 0]"
            ]
          },
          "metadata": {},
          "execution_count": 12
        }
      ]
    },
    {
      "cell_type": "code",
      "source": [
        "# Reassign \"hello\" in this nested list to say \"goodbye\" instead:\n",
        "list3 = [1,2,[3,4,\"hello\"]]\n",
        "list3[2][2] = \"goodbye\"\n",
        "list3"
      ],
      "metadata": {
        "colab": {
          "base_uri": "https://localhost:8080/"
        },
        "id": "UkJPtB59e2my",
        "outputId": "1c2391c1-1cec-4fff-f0ab-faf62f39afe1"
      },
      "execution_count": 14,
      "outputs": [
        {
          "output_type": "execute_result",
          "data": {
            "text/plain": [
              "[1, 2, [3, 4, 'goodbye']]"
            ]
          },
          "metadata": {},
          "execution_count": 14
        }
      ]
    },
    {
      "cell_type": "code",
      "source": [
        "# Sort the list below:\n",
        "list4 = [5, 3, 4, 6, 1]\n",
        "list4.sort()\n",
        "list4"
      ],
      "metadata": {
        "colab": {
          "base_uri": "https://localhost:8080/"
        },
        "id": "0LdvhxiKffLO",
        "outputId": "cb6c441c-c1fc-47ff-bf8b-4bde755e9a6e"
      },
      "execution_count": 15,
      "outputs": [
        {
          "output_type": "execute_result",
          "data": {
            "text/plain": [
              "[1, 3, 4, 5, 6]"
            ]
          },
          "metadata": {},
          "execution_count": 15
        }
      ]
    },
    {
      "cell_type": "markdown",
      "source": [
        "## Dictionaries"
      ],
      "metadata": {
        "id": "1zdOD5ukf7Xc"
      }
    },
    {
      "cell_type": "code",
      "source": [
        "# Using keys and indexing, grab the \"hello\" from the following dictionaries:\n",
        "d = {\"simple_key\": \"hello\"}\n",
        "value = d[\"simple_key\"]\n",
        "value"
      ],
      "metadata": {
        "colab": {
          "base_uri": "https://localhost:8080/",
          "height": 35
        },
        "id": "L2tqu3p1f9ME",
        "outputId": "d69211a7-e8bf-49e3-9100-db8480ff707b"
      },
      "execution_count": 21,
      "outputs": [
        {
          "output_type": "execute_result",
          "data": {
            "text/plain": [
              "'hello'"
            ],
            "application/vnd.google.colaboratory.intrinsic+json": {
              "type": "string"
            }
          },
          "metadata": {},
          "execution_count": 21
        }
      ]
    },
    {
      "cell_type": "code",
      "source": [
        "d = {\"k1\":{\"k2\": \"hello\"}}\n",
        "value = d[\"k1\"][\"k2\"]\n",
        "value"
      ],
      "metadata": {
        "colab": {
          "base_uri": "https://localhost:8080/",
          "height": 35
        },
        "id": "tJh68PsggcYu",
        "outputId": "1103218c-ea1b-4f0f-cf51-07d327d5d026"
      },
      "execution_count": 22,
      "outputs": [
        {
          "output_type": "execute_result",
          "data": {
            "text/plain": [
              "'hello'"
            ],
            "application/vnd.google.colaboratory.intrinsic+json": {
              "type": "string"
            }
          },
          "metadata": {},
          "execution_count": 22
        }
      ]
    },
    {
      "cell_type": "code",
      "source": [
        "d = {\"k1\":[{\"nest_key\":[\"this is deep\",[\"hello\"]]}]}\n",
        "value = d[\"k1\"][0][\"nest_key\"][1][0]\n",
        "value"
      ],
      "metadata": {
        "colab": {
          "base_uri": "https://localhost:8080/",
          "height": 35
        },
        "id": "IljgTWynhFrv",
        "outputId": "7b8b9f21-bdc0-4faa-fe27-4084950afda1"
      },
      "execution_count": 26,
      "outputs": [
        {
          "output_type": "execute_result",
          "data": {
            "text/plain": [
              "'hello'"
            ],
            "application/vnd.google.colaboratory.intrinsic+json": {
              "type": "string"
            }
          },
          "metadata": {},
          "execution_count": 26
        }
      ]
    },
    {
      "cell_type": "code",
      "source": [
        "d = {'k1':[1,2,{'k2':['this is tricky',{'tough':[1,2,['hello']]}]}]}\n",
        "value = d[\"k1\"][2][\"k2\"][1][\"tough\"][2][0]\n",
        "value"
      ],
      "metadata": {
        "colab": {
          "base_uri": "https://localhost:8080/",
          "height": 35
        },
        "id": "rlpW0pVLiG5m",
        "outputId": "f2a3baac-4236-4368-af25-04c4f4c2949d"
      },
      "execution_count": 27,
      "outputs": [
        {
          "output_type": "execute_result",
          "data": {
            "text/plain": [
              "'hello'"
            ],
            "application/vnd.google.colaboratory.intrinsic+json": {
              "type": "string"
            }
          },
          "metadata": {},
          "execution_count": 27
        }
      ]
    },
    {
      "cell_type": "markdown",
      "source": [
        "## Sets"
      ],
      "metadata": {
        "id": "a41h3pQAiyFp"
      }
    },
    {
      "cell_type": "code",
      "source": [
        "# USe a set to find the unique values of the list below:\n",
        "list5 = [1,2,2,33,4,4,11,22,3,3,2]\n",
        "set(list5)"
      ],
      "metadata": {
        "colab": {
          "base_uri": "https://localhost:8080/"
        },
        "id": "s198I_dwix3K",
        "outputId": "32321272-44df-4469-e821-ed663f791223"
      },
      "execution_count": 29,
      "outputs": [
        {
          "output_type": "execute_result",
          "data": {
            "text/plain": [
              "{1, 2, 3, 4, 11, 22, 33}"
            ]
          },
          "metadata": {},
          "execution_count": 29
        }
      ]
    },
    {
      "cell_type": "markdown",
      "source": [
        "# Python Statements"
      ],
      "metadata": {
        "id": "FgmVhbQW_OtU"
      }
    },
    {
      "cell_type": "markdown",
      "source": [
        "## Statements assessment test"
      ],
      "metadata": {
        "id": "m3ZEVFWplAcT"
      }
    },
    {
      "cell_type": "code",
      "source": [
        "st = 'Print only the words that start with s in this sentence'\n",
        "\n",
        "for word in st.split():\n",
        "  if word[0] == 's':\n",
        "    print(word)"
      ],
      "metadata": {
        "colab": {
          "base_uri": "https://localhost:8080/"
        },
        "id": "5bHaDGr6ko6C",
        "outputId": "4de7703e-257c-4a13-c32e-2d75a96e47a7"
      },
      "execution_count": null,
      "outputs": [
        {
          "output_type": "stream",
          "name": "stdout",
          "text": [
            "start\n",
            "s\n",
            "sentence\n"
          ]
        }
      ]
    },
    {
      "cell_type": "code",
      "source": [
        "# Use range to print all the even numbers from 0 to 10\n",
        "for i in range(11):\n",
        "  if i % 2 == 0:\n",
        "    print(i)"
      ],
      "metadata": {
        "colab": {
          "base_uri": "https://localhost:8080/"
        },
        "id": "mwA5XIj1lGMg",
        "outputId": "480ee9d0-3282-400e-f288-7620a863208a"
      },
      "execution_count": null,
      "outputs": [
        {
          "output_type": "stream",
          "name": "stdout",
          "text": [
            "0\n",
            "2\n",
            "4\n",
            "6\n",
            "8\n",
            "10\n"
          ]
        }
      ]
    },
    {
      "cell_type": "code",
      "source": [
        "# or we can use simple code like this\n",
        "for i in range(0, 11, 2):\n",
        "  print(i)"
      ],
      "metadata": {
        "colab": {
          "base_uri": "https://localhost:8080/"
        },
        "id": "kPDYmEQhleSO",
        "outputId": "a5e2f734-151b-4e6b-abee-dc4f375b280d"
      },
      "execution_count": null,
      "outputs": [
        {
          "output_type": "stream",
          "name": "stdout",
          "text": [
            "0\n",
            "2\n",
            "4\n",
            "6\n",
            "8\n",
            "10\n"
          ]
        }
      ]
    },
    {
      "cell_type": "code",
      "source": [
        "# Print out the length of a string\n",
        "length = input(\"Enter a string: \")\n",
        "print(f\"Length of the given string is {len(length)} letters\")"
      ],
      "metadata": {
        "id": "qM6I_kXaaWbm"
      },
      "execution_count": null,
      "outputs": []
    },
    {
      "cell_type": "code",
      "source": [
        "# Write a program to print character at index i in the string\n",
        "\n",
        "s = input(\"Enter a string: \")\n",
        "i = int(input(\"Enter the index number: \"))\n",
        "\n",
        "if len(s) == 0:\n",
        "  print(\"Empty string\")\n",
        "elif i < len(s):\n",
        "  print(f\"The character at the given index {i} is {s[i]}\")\n",
        "else:\n",
        "  print(\"index is out of range\")"
      ],
      "metadata": {
        "id": "G9Rcal4Sd_wX",
        "colab": {
          "base_uri": "https://localhost:8080/"
        },
        "outputId": "e11c4819-f720-4603-9466-f2c1e8be3bf3"
      },
      "execution_count": null,
      "outputs": [
        {
          "output_type": "stream",
          "name": "stdout",
          "text": [
            "Enter a string: hello\\\n",
            "Enter the index number: 6\n",
            "index is out of range\n"
          ]
        }
      ]
    },
    {
      "cell_type": "code",
      "source": [
        "# Write a program to reverse a string\n",
        "s = input(\"Enter a string to reverse: \")\n",
        "print(f\"Reversed string is: \\n{s[::-1]}\")"
      ],
      "metadata": {
        "colab": {
          "base_uri": "https://localhost:8080/"
        },
        "id": "tuhlmyfXgXFT",
        "outputId": "a336db58-fc22-43d1-9142-1e5add30f20d"
      },
      "execution_count": null,
      "outputs": [
        {
          "output_type": "stream",
          "name": "stdout",
          "text": [
            "Enter a string to reverse: Hello\n",
            "Reversed string is: \n",
            "olleH\n"
          ]
        }
      ]
    },
    {
      "cell_type": "code",
      "source": [
        "# Write a program that prints the first and last 3 chracters of a string as a single word\n",
        "s = input(\"Enter a string: \")\n",
        "if len(s) >= 6:\n",
        "  new_string = s[:3] + s[len(s)-3:]\n",
        "  print(new_string)\n",
        "else:\n",
        "  print(\"String must be atleast 6 characters long\")\n"
      ],
      "metadata": {
        "colab": {
          "base_uri": "https://localhost:8080/"
        },
        "id": "PEdvpkQFhZOq",
        "outputId": "eda2332b-2d4e-43d1-8a7f-4b43d9c69d78"
      },
      "execution_count": null,
      "outputs": [
        {
          "output_type": "stream",
          "name": "stdout",
          "text": [
            "Enter a string: Hello\n",
            "String must be atleast 6 characters long\n"
          ]
        }
      ]
    },
    {
      "cell_type": "code",
      "source": [
        "# Use a List comprehension to create a list of all numbers bet 1 and 50 that are divisible by 3\n",
        "mylist = [num for num in range(1, 51) if num % 3 == 0]\n",
        "mylist"
      ],
      "metadata": {
        "colab": {
          "base_uri": "https://localhost:8080/"
        },
        "id": "58fXDBwtNfpm",
        "outputId": "e1384578-5f01-465e-942e-6230823aaa00"
      },
      "execution_count": null,
      "outputs": [
        {
          "output_type": "execute_result",
          "data": {
            "text/plain": [
              "[3, 6, 9, 12, 15, 18, 21, 24, 27, 30, 33, 36, 39, 42, 45, 48]"
            ]
          },
          "metadata": {},
          "execution_count": 7
        }
      ]
    },
    {
      "cell_type": "code",
      "source": [
        "# Go through the string below and if the length of a word is even print \"even\"!\n",
        "string = \"Print every word in this sentence that has an even number of letters\"\n",
        "words = string.split() #splits the sentences by white spaces\n",
        "for word in words:\n",
        "  if len(word) % 2 == 0:\n",
        "    print(word)"
      ],
      "metadata": {
        "id": "Lo47MFIKOUdR",
        "colab": {
          "base_uri": "https://localhost:8080/"
        },
        "outputId": "841eb951-e966-4443-aaa4-c44ae3f30bb1"
      },
      "execution_count": 13,
      "outputs": [
        {
          "output_type": "stream",
          "name": "stdout",
          "text": [
            "word\n",
            "in\n",
            "this\n",
            "sentence\n",
            "that\n",
            "an\n",
            "even\n",
            "number\n",
            "of\n"
          ]
        }
      ]
    },
    {
      "cell_type": "markdown",
      "source": [
        "Write a program that prints the integers from 1 to 100. But for multiples of three print \"Fizz\" instead of the number, and for the multiples of five print \"Buzz\". For numbers which are multiples of both three and five print \"FizzBuzz\"."
      ],
      "metadata": {
        "id": "9Q2vH4HDfJ1I"
      }
    },
    {
      "cell_type": "code",
      "source": [
        "num = range(1, 101)\n",
        "for n in num:\n",
        "  if n % 3 == 0 and n % 5 == 0:\n",
        "    print(\"FizzBuzz\")\n",
        "  elif n % 3 == 0:\n",
        "    print(\"Fizz\")\n",
        "  elif n % 5 == 0:\n",
        "    print(\"Buzz\")\n",
        "  else:\n",
        "    print(n)"
      ],
      "metadata": {
        "colab": {
          "base_uri": "https://localhost:8080/"
        },
        "collapsed": true,
        "id": "ePni3cQIfHk8",
        "outputId": "902aa3c0-1fc3-47e4-9ae7-3bc582627eb3"
      },
      "execution_count": 14,
      "outputs": [
        {
          "output_type": "stream",
          "name": "stdout",
          "text": [
            "1\n",
            "2\n",
            "Fizz\n",
            "4\n",
            "Buzz\n",
            "Fizz\n",
            "7\n",
            "8\n",
            "Fizz\n",
            "Buzz\n",
            "11\n",
            "Fizz\n",
            "13\n",
            "14\n",
            "FizzBuzz\n",
            "16\n",
            "17\n",
            "Fizz\n",
            "19\n",
            "Buzz\n",
            "Fizz\n",
            "22\n",
            "23\n",
            "Fizz\n",
            "Buzz\n",
            "26\n",
            "Fizz\n",
            "28\n",
            "29\n",
            "FizzBuzz\n",
            "31\n",
            "32\n",
            "Fizz\n",
            "34\n",
            "Buzz\n",
            "Fizz\n",
            "37\n",
            "38\n",
            "Fizz\n",
            "Buzz\n",
            "41\n",
            "Fizz\n",
            "43\n",
            "44\n",
            "FizzBuzz\n",
            "46\n",
            "47\n",
            "Fizz\n",
            "49\n",
            "Buzz\n",
            "Fizz\n",
            "52\n",
            "53\n",
            "Fizz\n",
            "Buzz\n",
            "56\n",
            "Fizz\n",
            "58\n",
            "59\n",
            "FizzBuzz\n",
            "61\n",
            "62\n",
            "Fizz\n",
            "64\n",
            "Buzz\n",
            "Fizz\n",
            "67\n",
            "68\n",
            "Fizz\n",
            "Buzz\n",
            "71\n",
            "Fizz\n",
            "73\n",
            "74\n",
            "FizzBuzz\n",
            "76\n",
            "77\n",
            "Fizz\n",
            "79\n",
            "Buzz\n",
            "Fizz\n",
            "82\n",
            "83\n",
            "Fizz\n",
            "Buzz\n",
            "86\n",
            "Fizz\n",
            "88\n",
            "89\n",
            "FizzBuzz\n",
            "91\n",
            "92\n",
            "Fizz\n",
            "94\n",
            "Buzz\n",
            "Fizz\n",
            "97\n",
            "98\n",
            "Fizz\n",
            "Buzz\n"
          ]
        }
      ]
    },
    {
      "cell_type": "code",
      "source": [
        "# Use List Comprehension to create a list of the first letters of every word in the string below\n",
        "string = \"Create a list of the first letters of every word in this string\"\n",
        "mylist = [word[0] for word in string.split()]\n",
        "mylist"
      ],
      "metadata": {
        "colab": {
          "base_uri": "https://localhost:8080/"
        },
        "id": "okPUKZWQfw1B",
        "outputId": "9524eea6-fc4f-40b4-f1a9-c79bfe2fcbe9"
      },
      "execution_count": 2,
      "outputs": [
        {
          "output_type": "execute_result",
          "data": {
            "text/plain": [
              "['C', 'a', 'l', 'o', 't', 'f', 'l', 'o', 'e', 'w', 'i', 't', 's']"
            ]
          },
          "metadata": {},
          "execution_count": 2
        }
      ]
    },
    {
      "cell_type": "code",
      "source": [
        "# We can also do this without list comprehension\n",
        "mylist = []\n",
        "for word in string.split():\n",
        "  mylist.append(word[0])\n",
        "mylist"
      ],
      "metadata": {
        "colab": {
          "base_uri": "https://localhost:8080/"
        },
        "id": "JOidYTGegZxR",
        "outputId": "0ed34845-051e-4519-e0d1-955728e12d16"
      },
      "execution_count": 6,
      "outputs": [
        {
          "output_type": "execute_result",
          "data": {
            "text/plain": [
              "['C', 'a', 'l', 'o', 't', 'f', 'l', 'o', 'e', 'w', 'i', 't', 's']"
            ]
          },
          "metadata": {},
          "execution_count": 6
        }
      ]
    },
    {
      "cell_type": "markdown",
      "source": [
        "## Number guessing game"
      ],
      "metadata": {
        "id": "zGTHql8xPOfj"
      }
    },
    {
      "cell_type": "code",
      "source": [
        "import random\n",
        "\n",
        "num = random.randint(1, 100)\n",
        "print(\"Welcome to the guessing game!\")\n",
        "print(\"I'm thinking of a number between 1 and 100\")\n",
        "\n",
        "# Print out the rules of the game\n",
        "print(\"If your guess is more than 10 away from my number, I'll tell you you're COLD\")\n",
        "print(\"If your guess is within 10 of my number, I'll tell you you're WARM\")\n",
        "print(\"If your guess is farther than your most recent guess, I'll say you're getting COLDER\")\n",
        "print(\"If your guess is closer than your most recent guess, I'll say you're getting WARMER\")\n",
        "print(\"LET'S PLAY!\")\n",
        "\n",
        "# Set the initial value of guesses as 0\n",
        "guesses = [0]\n",
        "\n",
        "while True:\n",
        "  guess = int(input(\"Guess a number between 1 and 100: \"))\n",
        "  guesses.append(guess) # append the guesses by 1 each time user guesses the number\n",
        "\n",
        "  if guess < 1 or guess > 100: # check if the guess is between 1 to 100\n",
        "    print(\"OUT OF BOUNDS! GUESS AGAIN!\")\n",
        "    continue\n",
        "\n",
        "  if guess == num: # check if the guess is correct\n",
        "    print(f\"Congratulations! You have guessed the number in {len(guesses)-1} attempts\")\n",
        "    break\n",
        "\n",
        "  if len(guesses) == 2:\n",
        "    if abs(guess - num) <= 10:\n",
        "      print(\"WARM!\")\n",
        "    else:\n",
        "      print(\"COLD!\")\n",
        "\n",
        "  else:\n",
        "    if abs(guess - num) < abs(guesses[-2] - num):\n",
        "      print(\"WARMER!\")\n",
        "    else:\n",
        "      print(\"COLDER!\")"
      ],
      "metadata": {
        "id": "qg8yemTKv2Et",
        "colab": {
          "base_uri": "https://localhost:8080/"
        },
        "outputId": "873b180a-883f-4880-f3c2-3356c551cec3",
        "collapsed": true
      },
      "execution_count": null,
      "outputs": [
        {
          "output_type": "stream",
          "name": "stdout",
          "text": [
            "Welcome to the guessing game!\n",
            "I'm thinking of a number between 1 and 100\n",
            "If your guess is more than 10 away from my number, I'll tell you you're COLD\n",
            "If your guess is within 10 of my number, I'll tell you you're WARM\n",
            "If your guess is farther than your most recent guess, I'll say you're getting COLDER\n",
            "If your guess is closer than your most recent guess, I'll say you're getting WARMER\n",
            "LET'S PLAY!\n",
            "Guess a number between 1 and 100: 50\n",
            "COLD!\n",
            "Guess a number between 1 and 100: 25\n",
            "WARMER!\n",
            "Guess a number between 1 and 100: 35\n",
            "COLDER!\n",
            "Guess a number between 1 and 100: 15\n",
            "WARMER!\n",
            "Guess a number between 1 and 100: 20\n",
            "COLDER!\n",
            "Guess a number between 1 and 100: 17\n",
            "WARMER!\n",
            "Guess a number between 1 and 100: 18\n",
            "COLDER!\n",
            "Guess a number between 1 and 100: 16\n",
            "WARMER!\n",
            "Guess a number between 1 and 100: 14\n",
            "WARMER!\n",
            "Guess a number between 1 and 100: 12\n",
            "WARMER!\n",
            "Guess a number between 1 and 100: 11\n",
            "WARMER!\n",
            "Guess a number between 1 and 100: 10\n",
            "WARMER!\n",
            "Guess a number between 1 and 100: 9\n",
            "WARMER!\n",
            "Guess a number between 1 and 100: 8\n",
            "WARMER!\n",
            "Guess a number between 1 and 100: 7\n",
            "WARMER!\n",
            "Guess a number between 1 and 100: 6\n",
            "WARMER!\n",
            "Guess a number between 1 and 100: 5\n",
            "WARMER!\n",
            "Guess a number between 1 and 100: 4\n",
            "WARMER!\n",
            "Guess a number between 1 and 100: 3\n",
            "Congratulations! You have guessed the number in 19 attempts\n"
          ]
        }
      ]
    },
    {
      "cell_type": "markdown",
      "source": [
        "# Methods and Functions"
      ],
      "metadata": {
        "id": "hU23N3Mva6D9"
      }
    },
    {
      "cell_type": "code",
      "source": [],
      "metadata": {
        "id": "ghRt_Hysdoxn"
      },
      "execution_count": null,
      "outputs": []
    }
  ]
}